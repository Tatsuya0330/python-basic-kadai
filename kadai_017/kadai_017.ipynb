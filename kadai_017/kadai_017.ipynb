{
  "nbformat": 4,
  "nbformat_minor": 0,
  "metadata": {
    "colab": {
      "provenance": []
    },
    "kernelspec": {
      "name": "python3",
      "display_name": "Python 3"
    },
    "language_info": {
      "name": "python"
    }
  },
  "cells": [
    {
      "cell_type": "code",
      "execution_count": 3,
      "metadata": {
        "colab": {
          "base_uri": "https://localhost:8080/"
        },
        "id": "9-G9RwPi-QuR",
        "outputId": "fc5fb447-4201-4ff2-d1bb-e6924a3292ee"
      },
      "outputs": [
        {
          "output_type": "stream",
          "name": "stdout",
          "text": [
            "成年\n",
            "成年\n",
            "未成年\n"
          ]
        }
      ],
      "source": [
        "class Human:\n",
        "  def __init__(self, name, age):\n",
        "    self.name = name\n",
        "    self.age = age\n",
        "\n",
        "  def check_adult(self):\n",
        "    if(self.age >= 20):\n",
        "      print(\"成年\")\n",
        "    else:\n",
        "      print(\"未成年\")\n",
        "\n",
        "human1 = Human(\"藤村\", 20)\n",
        "human2 = Human(\"米津\", 33)\n",
        "human3 = Human(\"鈴木\", 16)\n",
        "\n",
        "humans = [human1, human2, human3]\n",
        "\n",
        "for human in humans:\n",
        "  human.check_adult()"
      ]
    }
  ]
}