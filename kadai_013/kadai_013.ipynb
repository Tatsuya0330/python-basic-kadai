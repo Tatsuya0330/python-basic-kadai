{
  "nbformat": 4,
  "nbformat_minor": 0,
  "metadata": {
    "colab": {
      "provenance": []
    },
    "kernelspec": {
      "name": "python3",
      "display_name": "Python 3"
    },
    "language_info": {
      "name": "python"
    }
  },
  "cells": [
    {
      "cell_type": "code",
      "execution_count": 8,
      "metadata": {
        "colab": {
          "base_uri": "https://localhost:8080/"
        },
        "id": "epThYlSUkX10",
        "outputId": "b3620e29-5079-4153-9ebd-67c662ebed0a"
      },
      "outputs": [
        {
          "output_type": "stream",
          "name": "stdout",
          "text": [
            "1100.0円\n"
          ]
        }
      ],
      "source": [
        "def calculate(price: int, tax: float):\n",
        "  return price * (1 + tax)\n",
        "\n",
        "print(f\"{calculate(1000, 0.1)}円\")"
      ]
    }
  ]
}